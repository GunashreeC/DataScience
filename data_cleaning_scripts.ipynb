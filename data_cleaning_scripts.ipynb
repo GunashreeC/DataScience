{
 "cells": [
  {
   "cell_type": "markdown",
   "id": "921da51d",
   "metadata": {},
   "source": [
    "# DATA CLEANING \n",
    "\n",
    "## PPP Dataset"
   ]
  },
  {
   "cell_type": "code",
   "execution_count": null,
   "id": "38378162",
   "metadata": {},
   "outputs": [],
   "source": [
    "data = \"public_150k_plus_230331.csv\"\n",
    "df = pd.read_csv(data)\n",
    "len(df.index)\n",
    "df_pandemic = pd.read_csv('National_Sate_Illinois_data.csv')"
   ]
  },
  {
   "cell_type": "code",
   "execution_count": null,
   "id": "c987a1f4",
   "metadata": {},
   "outputs": [],
   "source": [
    "# remove duplicates\n",
    "df = df.drop_duplicates()\n",
    "df_pandemic=df_pandemic.drop_duplicates()"
   ]
  },
  {
   "cell_type": "code",
   "execution_count": null,
   "id": "c500c6ac",
   "metadata": {},
   "outputs": [],
   "source": [
    "# Rename columns for clarity\n",
    "df_pandemic.columns = ['state', 'instrument_id', 'question', 'answer_id', 'answer_text', 'percentage', 'se']"
   ]
  },
  {
   "cell_type": "code",
   "execution_count": null,
   "id": "be0a8739",
   "metadata": {},
   "outputs": [],
   "source": [
    "# remove any irrelevant columns\n",
    "columns_to_drop = ['LoanNumber', 'SBAOfficeCode', 'ProcessingMethod', 'LoanStatusDate',\n",
    "                   'Term', 'ServicingLenderLocationID',\n",
    "                   'ServicingLenderAddress', 'ServicingLenderCity', 'ServicingLenderState',\n",
    "                   'ServicingLenderZip', 'HubzoneIndicator',\n",
    "                   'LMIIndicator', 'UTILITIES_PROCEED', 'PAYROLL_PROCEED', 'MORTGAGE_INTEREST_PROCEED',\n",
    "                   'RENT_PROCEED', 'REFINANCE_EIDL_PROCEED', 'HEALTH_CARE_PROCEED',\n",
    "                   'DEBT_INTEREST_PROCEED']\n",
    "df = df.drop(columns=columns_to_drop)"
   ]
  },
  {
   "cell_type": "code",
   "execution_count": null,
   "id": "3439f787",
   "metadata": {},
   "outputs": [],
   "source": [
    "df['DateApproved'] = pd.to_datetime(df['DateApproved'])\n",
    "df['ForgivenessDate'] = pd.to_datetime(df['ForgivenessDate'])"
   ]
  },
  {
   "cell_type": "code",
   "execution_count": null,
   "id": "7d3eac9a",
   "metadata": {},
   "outputs": [],
   "source": [
    "df_illinois = df[df['BorrowerState'] == 'IL']"
   ]
  },
  {
   "cell_type": "code",
   "execution_count": null,
   "id": "31ea7eba",
   "metadata": {},
   "outputs": [],
   "source": [
    "df = df.reset_index(drop=True)"
   ]
  },
  {
   "cell_type": "code",
   "execution_count": null,
   "id": "90b676e1",
   "metadata": {},
   "outputs": [],
   "source": [
    "df.to_csv('cleaned_loan_data.csv', index=False)"
   ]
  }
 ],
 "metadata": {
  "kernelspec": {
   "display_name": "Python 3 (ipykernel)",
   "language": "python",
   "name": "python3"
  },
  "language_info": {
   "codemirror_mode": {
    "name": "ipython",
    "version": 3
   },
   "file_extension": ".py",
   "mimetype": "text/x-python",
   "name": "python",
   "nbconvert_exporter": "python",
   "pygments_lexer": "ipython3",
   "version": "3.9.13"
  }
 },
 "nbformat": 4,
 "nbformat_minor": 5
}
